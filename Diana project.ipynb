{
 "cells": [
  {
   "cell_type": "code",
   "execution_count": 2,
   "metadata": {},
   "outputs": [],
   "source": [
    "import pandas as pd\n",
    "import numpy as np\n",
    "from pathlib import Path\n",
    "import requests\n",
    "from bs4 import BeautifulSoup\n",
    "\n",
    "%matplotlib inline"
   ]
  },
  {
   "cell_type": "code",
   "execution_count": 3,
   "metadata": {},
   "outputs": [],
   "source": [
    "URL = \"https://www.indexmundi.com/energy/?product=oil&graph=production\"\n",
    "table = pd.read_html(URL)"
   ]
  },
  {
   "cell_type": "code",
   "execution_count": 13,
   "metadata": {},
   "outputs": [
    {
     "data": {
      "text/plain": [
       "[                                                   0  \\\n",
       " 0  Product  Crude Oil  Natural Gas Liquids  Motor...   \n",
       " \n",
       "                                                    1  \\\n",
       " 0  Chart  Rank  Map  Growth Rate  Loading...var w...   \n",
       " \n",
       "                                                    2  \n",
       " 0  (adsbygoogle = window.adsbygoogle || []).push(...  ,\n",
       "                       Product\n",
       " 0                   Crude Oil\n",
       " 1         Natural Gas Liquids\n",
       " 2              Motor Gasoline\n",
       " 3                    Jet Fuel\n",
       " 4                    Kerosene\n",
       " 5         Distillate Fuel Oil\n",
       " 6           Residual Fuel Oil\n",
       " 7   Liquefied Petroleum Gases\n",
       " 8    Other Petroleum Products\n",
       " 9             Dry Natural Gas\n",
       " 10                       Coal\n",
       " 11               Ethanol Fuel\n",
       " 12                  Biodiesel\n",
       " 13       Total Primary Energy\n",
       " 14                Electricity\n",
       " 15        Hydroelectric Power\n",
       " 16     Nuclear Electric Power\n",
       " 17       Other Electric Power,\n",
       "                       Graph\n",
       " 0                Production\n",
       " 1               Consumption\n",
       " 2  Production & Consumption\n",
       " 3                   Exports\n",
       " 4                   Imports\n",
       " 5                  Reserves,\n",
       "             Unit of Measure\n",
       " 0  Thousand Barrels per Day,\n",
       "   Languages\n",
       " 0   English\n",
       " 1   Español,\n",
       "       production\n",
       " year            \n",
       " 1980    59463.80\n",
       " 1981    55958.40\n",
       " 1982    53367.30\n",
       " 1983    53166.60\n",
       " 1984    54417.60\n",
       " 1985    53882.60\n",
       " 1986    56242.17\n",
       " 1987    56572.17\n",
       " 1988    58615.45\n",
       " 1989    59725.36\n",
       " 1990    60424.25\n",
       " 1991    60126.34\n",
       " 1992    60097.77\n",
       " 1993    60173.79\n",
       " 1994    61175.25\n",
       " 1995    62430.25\n",
       " 1996    63816.35\n",
       " 1997    65797.55\n",
       " 1998    67022.85\n",
       " 1999    65898.06\n",
       " 2000    68343.04\n",
       " 2001    67921.63\n",
       " 2002    67050.84\n",
       " 2003    69189.99\n",
       " 2004    72249.60\n",
       " 2005    73516.23\n",
       " 2006    73099.73\n",
       " 2007    72698.83\n",
       " 2008    73583.73\n",
       " 2009    72385.33\n",
       " 2010    74166.13\n",
       " 2011    74281.63\n",
       " 2012    76047.63\n",
       " 2013    75996.83\n",
       " 2014    77724.30\n",
       " 2015    79784.30,\n",
       "                             Region\n",
       " 0                           Africa\n",
       " 1                       Antarctica\n",
       " 2                             Asia\n",
       " 3  Central America & the Caribbean\n",
       " 4                           Europe\n",
       " 5                    North America\n",
       " 6                          Oceania\n",
       " 7                    South America\n",
       " 8                            World,\n",
       "             Country\n",
       " 0       Afghanistan\n",
       " 1           Albania\n",
       " 2           Algeria\n",
       " 3    American Samoa\n",
       " 4            Angola\n",
       " ..              ...\n",
       " 214  Western Sahara\n",
       " 215           Yemen\n",
       " 216      Yugoslavia\n",
       " 217          Zambia\n",
       " 218        Zimbabwe\n",
       " \n",
       " [219 rows x 1 columns]]"
      ]
     },
     "execution_count": 13,
     "metadata": {},
     "output_type": "execute_result"
    }
   ],
   "source": [
    "table"
   ]
  },
  {
   "cell_type": "code",
   "execution_count": 5,
   "metadata": {},
   "outputs": [],
   "source": [
    "crude_oil=table[5]"
   ]
  },
  {
   "cell_type": "code",
   "execution_count": 6,
   "metadata": {},
   "outputs": [
    {
     "data": {
      "text/html": [
       "<div>\n",
       "<style scoped>\n",
       "    .dataframe tbody tr th:only-of-type {\n",
       "        vertical-align: middle;\n",
       "    }\n",
       "\n",
       "    .dataframe tbody tr th {\n",
       "        vertical-align: top;\n",
       "    }\n",
       "\n",
       "    .dataframe thead th {\n",
       "        text-align: right;\n",
       "    }\n",
       "</style>\n",
       "<table border=\"1\" class=\"dataframe\">\n",
       "  <thead>\n",
       "    <tr style=\"text-align: right;\">\n",
       "      <th></th>\n",
       "      <th>year</th>\n",
       "      <th>production</th>\n",
       "      <th>change</th>\n",
       "    </tr>\n",
       "  </thead>\n",
       "  <tbody>\n",
       "    <tr>\n",
       "      <th>0</th>\n",
       "      <td>1980</td>\n",
       "      <td>59463.8</td>\n",
       "      <td>NaN</td>\n",
       "    </tr>\n",
       "    <tr>\n",
       "      <th>1</th>\n",
       "      <td>1981</td>\n",
       "      <td>55958.4</td>\n",
       "      <td>-5.90 %</td>\n",
       "    </tr>\n",
       "    <tr>\n",
       "      <th>2</th>\n",
       "      <td>1982</td>\n",
       "      <td>53367.3</td>\n",
       "      <td>-4.63 %</td>\n",
       "    </tr>\n",
       "    <tr>\n",
       "      <th>3</th>\n",
       "      <td>1983</td>\n",
       "      <td>53166.6</td>\n",
       "      <td>-0.38 %</td>\n",
       "    </tr>\n",
       "    <tr>\n",
       "      <th>4</th>\n",
       "      <td>1984</td>\n",
       "      <td>54417.6</td>\n",
       "      <td>2.35 %</td>\n",
       "    </tr>\n",
       "  </tbody>\n",
       "</table>\n",
       "</div>"
      ],
      "text/plain": [
       "   year  production   change\n",
       "0  1980     59463.8      NaN\n",
       "1  1981     55958.4  -5.90 %\n",
       "2  1982     53367.3  -4.63 %\n",
       "3  1983     53166.6  -0.38 %\n",
       "4  1984     54417.6   2.35 %"
      ]
     },
     "execution_count": 6,
     "metadata": {},
     "output_type": "execute_result"
    }
   ],
   "source": [
    "crude_oil.head()"
   ]
  },
  {
   "cell_type": "code",
   "execution_count": 7,
   "metadata": {},
   "outputs": [],
   "source": [
    "crude_oil.drop(columns=[\"change\"],inplace=True)"
   ]
  },
  {
   "cell_type": "code",
   "execution_count": 8,
   "metadata": {},
   "outputs": [],
   "source": [
    "crude_oil.set_index(crude_oil[\"year\"],inplace=True)"
   ]
  },
  {
   "cell_type": "code",
   "execution_count": 9,
   "metadata": {},
   "outputs": [
    {
     "data": {
      "text/html": [
       "<div>\n",
       "<style scoped>\n",
       "    .dataframe tbody tr th:only-of-type {\n",
       "        vertical-align: middle;\n",
       "    }\n",
       "\n",
       "    .dataframe tbody tr th {\n",
       "        vertical-align: top;\n",
       "    }\n",
       "\n",
       "    .dataframe thead th {\n",
       "        text-align: right;\n",
       "    }\n",
       "</style>\n",
       "<table border=\"1\" class=\"dataframe\">\n",
       "  <thead>\n",
       "    <tr style=\"text-align: right;\">\n",
       "      <th></th>\n",
       "      <th>year</th>\n",
       "      <th>production</th>\n",
       "    </tr>\n",
       "    <tr>\n",
       "      <th>year</th>\n",
       "      <th></th>\n",
       "      <th></th>\n",
       "    </tr>\n",
       "  </thead>\n",
       "  <tbody>\n",
       "    <tr>\n",
       "      <th>1980</th>\n",
       "      <td>1980</td>\n",
       "      <td>59463.8</td>\n",
       "    </tr>\n",
       "    <tr>\n",
       "      <th>1981</th>\n",
       "      <td>1981</td>\n",
       "      <td>55958.4</td>\n",
       "    </tr>\n",
       "    <tr>\n",
       "      <th>1982</th>\n",
       "      <td>1982</td>\n",
       "      <td>53367.3</td>\n",
       "    </tr>\n",
       "    <tr>\n",
       "      <th>1983</th>\n",
       "      <td>1983</td>\n",
       "      <td>53166.6</td>\n",
       "    </tr>\n",
       "    <tr>\n",
       "      <th>1984</th>\n",
       "      <td>1984</td>\n",
       "      <td>54417.6</td>\n",
       "    </tr>\n",
       "  </tbody>\n",
       "</table>\n",
       "</div>"
      ],
      "text/plain": [
       "      year  production\n",
       "year                  \n",
       "1980  1980     59463.8\n",
       "1981  1981     55958.4\n",
       "1982  1982     53367.3\n",
       "1983  1983     53166.6\n",
       "1984  1984     54417.6"
      ]
     },
     "execution_count": 9,
     "metadata": {},
     "output_type": "execute_result"
    }
   ],
   "source": [
    "crude_oil.head()"
   ]
  },
  {
   "cell_type": "code",
   "execution_count": 10,
   "metadata": {},
   "outputs": [],
   "source": [
    "crude_oil.drop(columns=[\"year\"],inplace=True)"
   ]
  },
  {
   "cell_type": "code",
   "execution_count": 11,
   "metadata": {},
   "outputs": [
    {
     "data": {
      "text/html": [
       "<div>\n",
       "<style scoped>\n",
       "    .dataframe tbody tr th:only-of-type {\n",
       "        vertical-align: middle;\n",
       "    }\n",
       "\n",
       "    .dataframe tbody tr th {\n",
       "        vertical-align: top;\n",
       "    }\n",
       "\n",
       "    .dataframe thead th {\n",
       "        text-align: right;\n",
       "    }\n",
       "</style>\n",
       "<table border=\"1\" class=\"dataframe\">\n",
       "  <thead>\n",
       "    <tr style=\"text-align: right;\">\n",
       "      <th></th>\n",
       "      <th>production</th>\n",
       "    </tr>\n",
       "    <tr>\n",
       "      <th>year</th>\n",
       "      <th></th>\n",
       "    </tr>\n",
       "  </thead>\n",
       "  <tbody>\n",
       "    <tr>\n",
       "      <th>1980</th>\n",
       "      <td>59463.8</td>\n",
       "    </tr>\n",
       "    <tr>\n",
       "      <th>1981</th>\n",
       "      <td>55958.4</td>\n",
       "    </tr>\n",
       "    <tr>\n",
       "      <th>1982</th>\n",
       "      <td>53367.3</td>\n",
       "    </tr>\n",
       "    <tr>\n",
       "      <th>1983</th>\n",
       "      <td>53166.6</td>\n",
       "    </tr>\n",
       "    <tr>\n",
       "      <th>1984</th>\n",
       "      <td>54417.6</td>\n",
       "    </tr>\n",
       "  </tbody>\n",
       "</table>\n",
       "</div>"
      ],
      "text/plain": [
       "      production\n",
       "year            \n",
       "1980     59463.8\n",
       "1981     55958.4\n",
       "1982     53367.3\n",
       "1983     53166.6\n",
       "1984     54417.6"
      ]
     },
     "execution_count": 11,
     "metadata": {},
     "output_type": "execute_result"
    }
   ],
   "source": [
    "crude_oil.head()"
   ]
  },
  {
   "cell_type": "code",
   "execution_count": 12,
   "metadata": {},
   "outputs": [
    {
     "data": {
      "text/plain": [
       "<matplotlib.axes._subplots.AxesSubplot at 0x7ff760a28070>"
      ]
     },
     "execution_count": 12,
     "metadata": {},
     "output_type": "execute_result"
    },
    {
     "data": {
      "image/png": "[encoded data removed]",
      "text/plain": [
       "<Figure size 432x288 with 1 Axes>"
      ]
     },
     "metadata": {
      "needs_background": "light"
     },
     "output_type": "display_data"
    }
   ],
   "source": [
    "crude_oil.plot()"
   ]
  },
  {
   "cell_type": "code",
   "execution_count": 14,
   "metadata": {},
   "outputs": [
    {
     "ename": "NameError",
     "evalue": "name 'plot' is not defined",
     "output_type": "error",
     "traceback": [
      "\u001b[0;31m---------------------------------------------------------------------------\u001b[0m",
      "\u001b[0;31mNameError\u001b[0m                                 Traceback (most recent call last)",
      "\u001b[0;32m<ipython-input-14-d1d15f9d8156>\u001b[0m in \u001b[0;36m<module>\u001b[0;34m\u001b[0m\n\u001b[0;32m----> 1\u001b[0;31m \u001b[0mplot\u001b[0m\u001b[0;34m(\u001b[0m\u001b[0;34m)\u001b[0m\u001b[0;34m\u001b[0m\u001b[0;34m\u001b[0m\u001b[0m\n\u001b[0m",
      "\u001b[0;31mNameError\u001b[0m: name 'plot' is not defined"
     ]
    }
   ],
   "source": []
  },
  {
   "cell_type": "code",
   "execution_count": null,
   "metadata": {},
   "outputs": [],
   "source": []
  }
 ],
 "metadata": {
  "kernelspec": {
   "display_name": "Python 3",
   "language": "python",
   "name": "python3"
  },
  "language_info": {
   "codemirror_mode": {
    "name": "ipython",
    "version": 3
   },
   "file_extension": ".py",
   "mimetype": "text/x-python",
   "name": "python",
   "nbconvert_exporter": "python",
   "pygments_lexer": "ipython3",
   "version": "3.8.3"
  }
 },
 "nbformat": 4,
 "nbformat_minor": 4
}
